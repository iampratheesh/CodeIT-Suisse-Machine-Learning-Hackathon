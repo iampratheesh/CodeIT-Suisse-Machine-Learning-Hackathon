{
  "nbformat": 4,
  "nbformat_minor": 0,
  "metadata": {
    "colab": {
      "name": "Battle_Of_Blackwater_Credit_Suisse_Hackathon.ipynb",
      "version": "0.3.2",
      "provenance": []
    },
    "kernelspec": {
      "name": "python3",
      "display_name": "Python 3"
    },
    "accelerator": "GPU"
  },
  "cells": [
    {
      "cell_type": "markdown",
      "metadata": {
        "id": "MAuWdUrSdjqn",
        "colab_type": "text"
      },
      "source": [
        "### CodeIT Suisse Submission Notebook"
      ]
    },
    {
      "cell_type": "code",
      "metadata": {
        "colab_type": "code",
        "id": "CZnJY6LfY98T",
        "colab": {}
      },
      "source": [
        "# NumPy for numerical computing\n",
        "import numpy as np\n",
        "\n",
        "# Pandas for DataFrames\n",
        "import pandas as pd\n",
        "\n",
        "# Ignore Warnings\n",
        "import warnings\n",
        "warnings.filterwarnings(\"ignore\")\n",
        "\n",
        "# Function for splitting training and test set\n",
        "from sklearn.model_selection import train_test_split\n",
        "\n",
        "# Libraries to perform hyperparameter tuning\n",
        "from sklearn.model_selection import GridSearchCV\n",
        "from sklearn.model_selection import RandomizedSearchCV\n",
        "from sklearn.preprocessing import StandardScaler\n",
        "\n",
        "# Import classes for ML Models\n",
        "import xgboost as xgb\n",
        "\n",
        "\n",
        "# Evaluation Metrics\n",
        "#from sklearn.metrics import mean_squared_error as mse\n",
        "#from sklearn.metrics import r2_score\n",
        "#from sklearn.metrics import mean_absolute_error as mae\n",
        "\n",
        "# To save the final model on disk\n",
        "from sklearn.externals import joblib  ## Reference http://scikit-learn.org/stable/modules/model_persistence.html"
      ],
      "execution_count": 0,
      "outputs": []
    },
    {
      "cell_type": "code",
      "metadata": {
        "colab_type": "code",
        "id": "7z3CFkuCY98a",
        "colab": {}
      },
      "source": [
        "df = pd.read_csv('.../train.csv')"
      ],
      "execution_count": 0,
      "outputs": []
    },
    {
      "cell_type": "code",
      "metadata": {
        "colab_type": "code",
        "id": "izgr683lFYwb",
        "colab": {}
      },
      "source": [
        "X_tt_test = pd.read_csv('.../test.csv')"
      ],
      "execution_count": 0,
      "outputs": []
    },
    {
      "cell_type": "code",
      "metadata": {
        "colab_type": "code",
        "id": "TC1_V1ew8O6r",
        "colab": {}
      },
      "source": [
        "X_t_test = pd.read_csv('.../test.csv')"
      ],
      "execution_count": 0,
      "outputs": []
    },
    {
      "cell_type": "code",
      "metadata": {
        "colab_type": "code",
        "id": "MtXyTxbJY99M",
        "colab": {}
      },
      "source": [
        "# Create separate object for target variable\n",
        "y = df.bestSoldierPerc\n",
        "# Create separate object for input features\n",
        "X = df.drop(columns = ['soldierId','shipId','attackId','bestSoldierPerc'], axis=1)"
      ],
      "execution_count": 0,
      "outputs": []
    },
    {
      "cell_type": "code",
      "metadata": {
        "colab_type": "code",
        "id": "Clq96xcJY99S",
        "colab": {}
      },
      "source": [
        "s = StandardScaler()\n",
        "X = s.fit_transform(X)"
      ],
      "execution_count": 0,
      "outputs": []
    },
    {
      "cell_type": "code",
      "metadata": {
        "colab_type": "code",
        "id": "BhzU7hcv9swK",
        "colab": {}
      },
      "source": [
        "X_t_test = X_t_test.drop(columns = ['soldierId','shipId','attackId','Unnamed: 0', 'index'], axis=1)"
      ],
      "execution_count": 0,
      "outputs": []
    },
    {
      "cell_type": "code",
      "metadata": {
        "colab_type": "code",
        "id": "_buXm0vv8nS1",
        "colab": {}
      },
      "source": [
        "X_t_test = s.transform(X_t_test)"
      ],
      "execution_count": 0,
      "outputs": []
    },
    {
      "cell_type": "code",
      "metadata": {
        "colab_type": "code",
        "id": "oDw1eFtmow3T",
        "colab": {}
      },
      "source": [
        "# Split X and y into train and test sets: 80-20 (Time based splitting)\n",
        "X_train, X_test, y_train, y_test = train_test_split(X, y, test_size=0.2, shuffle = False)"
      ],
      "execution_count": 0,
      "outputs": []
    },
    {
      "cell_type": "code",
      "metadata": {
        "colab_type": "code",
        "id": "1QrKpILeowWw",
        "colab": {}
      },
      "source": [
        "print(X_train.shape, X_test.shape, y_train.shape, y_test.shape)"
      ],
      "execution_count": 0,
      "outputs": []
    },
    {
      "cell_type": "markdown",
      "metadata": {
        "colab_type": "text",
        "id": "QxBCWqnqfp4Y"
      },
      "source": [
        "## Ridge Regression"
      ]
    },
    {
      "cell_type": "code",
      "metadata": {
        "colab_type": "code",
        "id": "3JHzmCKVfp4P",
        "colab": {}
      },
      "source": [
        "tuned_params = {'alpha': [0.0001, 0.001, 0.01, 0.1, 1, 10, 100, 1000, 10000, 100000]}\n",
        "model = GridSearchCV(Ridge(), tuned_params, scoring = 'neg_mean_absolute_error', cv=10, n_jobs=-1)\n",
        "model.fit(X_train, y_train)"
      ],
      "execution_count": 0,
      "outputs": []
    },
    {
      "cell_type": "code",
      "metadata": {
        "colab_type": "code",
        "id": "lyu2iXjafp4G",
        "colab": {}
      },
      "source": [
        "model.best_estimator_"
      ],
      "execution_count": 0,
      "outputs": []
    },
    {
      "cell_type": "code",
      "metadata": {
        "colab_type": "code",
        "id": "WbUVHf9Dfp4C",
        "colab": {}
      },
      "source": [
        "## Predict Train results\n",
        "y_train_pred = model.predict(X_train)"
      ],
      "execution_count": 0,
      "outputs": []
    },
    {
      "cell_type": "code",
      "metadata": {
        "colab_type": "code",
        "id": "VbpUPpiofp38",
        "colab": {}
      },
      "source": [
        "## Predict Test results\n",
        "y_pred = model.predict(X_test)"
      ],
      "execution_count": 0,
      "outputs": []
    },
    {
      "cell_type": "code",
      "metadata": {
        "colab_type": "code",
        "id": "__7jcETXfp31",
        "colab": {}
      },
      "source": [
        "y_test_pred = model.predict(X_t_test)"
      ],
      "execution_count": 0,
      "outputs": []
    },
    {
      "cell_type": "markdown",
      "metadata": {
        "id": "SKlBdV9EJhJX",
        "colab_type": "text"
      },
      "source": [
        "## XGBoost"
      ]
    },
    {
      "cell_type": "code",
      "metadata": {
        "id": "d7e3wT9hf6Wd",
        "colab_type": "code",
        "colab": {}
      },
      "source": [
        "xgb_model = xgb.XGBRegressor(objective=\"reg:linear\", booster = \"gbtree\",eta = 0.02,\n",
        "                            max_depth           = 12, #changed from default of 8\n",
        "                            subsample           = 0.9, # 0.7\n",
        "                            colsample_bytree    = 0.7,\n",
        "                            learning_rate = 0.01) # 0.7)"
      ],
      "execution_count": 0,
      "outputs": []
    },
    {
      "cell_type": "code",
      "metadata": {
        "id": "FQPOeGs5f6xq",
        "colab_type": "code",
        "colab": {}
      },
      "source": [
        "xgb_model.fit(X, y)"
      ],
      "execution_count": 0,
      "outputs": []
    },
    {
      "cell_type": "code",
      "metadata": {
        "id": "2ZwgHbW8f62_",
        "colab_type": "code",
        "colab": {}
      },
      "source": [
        "y_test_pred = xgb_model.predict(X_t_test)"
      ],
      "execution_count": 0,
      "outputs": []
    },
    {
      "cell_type": "code",
      "metadata": {
        "id": "RHiVj0HQf8tY",
        "colab_type": "code",
        "colab": {}
      },
      "source": [
        "joblib.dump(model, 'model_pickle.sav')\n",
        "files.download('model_pickle.sav')"
      ],
      "execution_count": 0,
      "outputs": []
    },
    {
      "cell_type": "markdown",
      "metadata": {
        "id": "DclLJor-nv4p",
        "colab_type": "text"
      },
      "source": [
        "## XGBoost RandomSearchCV"
      ]
    },
    {
      "cell_type": "code",
      "metadata": {
        "id": "JfmHUbD-N0gQ",
        "colab_type": "code",
        "colab": {}
      },
      "source": [
        "from scipy.stats import uniform, randint"
      ],
      "execution_count": 0,
      "outputs": []
    },
    {
      "cell_type": "code",
      "metadata": {
        "id": "VUsnoQ26f9y0",
        "colab_type": "code",
        "colab": {}
      },
      "source": [
        "xgb_model = xgb.XGBRegressor(objective=\"reg:linear\")\n",
        "\n",
        "params = {\n",
        "    \"colsample_bytree\": uniform(0.7, 0.3),\n",
        "    \"gamma\": uniform(0, 0.5),\n",
        "    \"learning_rate\": uniform(0.03, 0.3), # default 0.1 \n",
        "    \"max_depth\": randint(2, 6), # default 3\n",
        "    \"n_estimators\": randint(100, 150), # default 100\n",
        "    \"subsample\": uniform(0.6, 0.4)\n",
        "}\n",
        "\n",
        "model = RandomizedSearchCV(xgb_model, param_distributions=params, n_iter=10, cv=3, verbose=1, n_jobs=-1, return_train_score=True)"
      ],
      "execution_count": 0,
      "outputs": []
    },
    {
      "cell_type": "code",
      "metadata": {
        "id": "9lg4Kl21f9_G",
        "colab_type": "code",
        "colab": {}
      },
      "source": [
        "model.fit(X,y)"
      ],
      "execution_count": 0,
      "outputs": []
    },
    {
      "cell_type": "code",
      "metadata": {
        "id": "SemdMn-gf-Lg",
        "colab_type": "code",
        "colab": {}
      },
      "source": [
        "y_test_pred = model.predict(X_t_test)"
      ],
      "execution_count": 0,
      "outputs": []
    },
    {
      "cell_type": "markdown",
      "metadata": {
        "id": "qJ-h8rXkazwF",
        "colab_type": "text"
      },
      "source": [
        "## LGBM"
      ]
    },
    {
      "cell_type": "code",
      "metadata": {
        "id": "xGWOl0kOZQEI",
        "colab_type": "code",
        "colab": {}
      },
      "source": [
        "from scipy.stats import randint as sp_randint\n",
        "from scipy.stats import uniform as sp_uniform\n",
        "param_test ={'num_leaves': sp_randint(6, 50), \n",
        "             'min_child_samples': sp_randint(100, 500), \n",
        "             'min_child_weight': [1e-5, 1e-3, 1e-2, 1e-1, 1, 1e1, 1e2, 1e3, 1e4],\n",
        "             'subsample': sp_uniform(loc=0.2, scale=0.8), \n",
        "             'colsample_bytree': sp_uniform(loc=0.4, scale=0.6),\n",
        "             'reg_alpha': [0, 1e-1, 1, 2, 5, 7, 10, 50, 100],\n",
        "             'reg_lambda': [0, 1e-1, 1, 5, 10, 20, 50, 100]}"
      ],
      "execution_count": 0,
      "outputs": []
    },
    {
      "cell_type": "code",
      "metadata": {
        "id": "KRbW9fy4a6Nt",
        "colab_type": "code",
        "colab": {}
      },
      "source": [
        "import lightgbm as lgb\n",
        "clf = lgb.LGBMRegressor(max_depth=-1, silent=True, metric='neg_mean_absolute_error', n_jobs=-1, n_estimators=5000)\n",
        "gs = RandomizedSearchCV(\n",
        "    estimator=clf, param_distributions=param_test, \n",
        "    n_iter=10,\n",
        "    scoring='neg_mean_absolute_error',\n",
        "    cv=3,\n",
        "    refit=True,\n",
        "    verbose=True)"
      ],
      "execution_count": 0,
      "outputs": []
    },
    {
      "cell_type": "code",
      "metadata": {
        "id": "hzbTyUYPbadT",
        "colab_type": "code",
        "colab": {}
      },
      "source": [
        "gs.fit(X,y)"
      ],
      "execution_count": 0,
      "outputs": []
    },
    {
      "cell_type": "code",
      "metadata": {
        "id": "4gCX3gYokuZl",
        "colab_type": "code",
        "colab": {}
      },
      "source": [
        "joblib.dump(gs, 'gbm_model_pickle.sav')"
      ],
      "execution_count": 0,
      "outputs": []
    },
    {
      "cell_type": "code",
      "metadata": {
        "id": "Wd9wB4DObhyu",
        "colab_type": "code",
        "colab": {}
      },
      "source": [
        "y_test_pred = gs.predict(X_t_test)"
      ],
      "execution_count": 0,
      "outputs": []
    },
    {
      "cell_type": "markdown",
      "metadata": {
        "id": "6QPflG86nkrw",
        "colab_type": "text"
      },
      "source": [
        "## Final Submission"
      ]
    },
    {
      "cell_type": "code",
      "metadata": {
        "colab_type": "code",
        "id": "0czPxqhEfp3N",
        "colab": {}
      },
      "source": [
        "df_final = pd.DataFrame()"
      ],
      "execution_count": 0,
      "outputs": []
    },
    {
      "cell_type": "code",
      "metadata": {
        "colab_type": "code",
        "id": "43F7IYpWfp3J",
        "colab": {}
      },
      "source": [
        "df_final['soldierId'] = X_tt_test['soldierId'].astype(int)"
      ],
      "execution_count": 0,
      "outputs": []
    },
    {
      "cell_type": "code",
      "metadata": {
        "colab_type": "code",
        "id": "TNnqRKQqfp3D",
        "colab": {}
      },
      "source": [
        "df_final['bestSoldierPerc'] = pd.DataFrame(y_test_pred)"
      ],
      "execution_count": 0,
      "outputs": []
    },
    {
      "cell_type": "code",
      "metadata": {
        "colab_type": "code",
        "id": "PdAURSLafp27",
        "colab": {}
      },
      "source": [
        "df_final.head()"
      ],
      "execution_count": 0,
      "outputs": []
    },
    {
      "cell_type": "code",
      "metadata": {
        "colab_type": "code",
        "id": "7Q9eePJsfp2x",
        "colab": {}
      },
      "source": [
        "df_final.to_csv('submission1.csv',index = False)"
      ],
      "execution_count": 0,
      "outputs": []
    }
  ]
}